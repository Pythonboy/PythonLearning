{
 "cells": [
  {
   "cell_type": "code",
   "execution_count": 3,
   "metadata": {},
   "outputs": [
    {
     "name": "stdout",
     "output_type": "stream",
     "text": [
      "KNN score: 0.974074\n",
      "LogisticRegression score: 0.979630\n"
     ]
    }
   ],
   "source": [
    "import matplotlib.pyplot as plt \n",
    "import numpy as np\n",
    "from sklearn.neighbors import KNeighborsClassifier\n",
    "from sklearn.linear_model import LogisticRegression\n",
    "from sklearn import datasets\n",
    "from sklearn.model_selection import train_test_split\n",
    "from sklearn.preprocessing import StandardScaler\n",
    "digits = datasets.load_digits();\n",
    "\n",
    "X = digits.data;\n",
    "y = digits.target;\n",
    "X_train,X_test,y_train,y_test = train_test_split(X,y,test_size = 0.3, random_state = 666);\n",
    "scaler = StandardScaler();\n",
    "scaler.fit(X_train);\n",
    "X_train = scaler.transform(X_train);\n",
    "X_test = scaler.transform(X_test);\n",
    "KNN = KNeighborsClassifier();\n",
    "Logistic = LogisticRegression(solver = \"lbfgs\" , max_iter =1000, multi_class = \"multinomial\")\n",
    "print('KNN score: %f' % KNN.fit(X_train, y_train).score(X_test, y_test))\n",
    "print('LogisticRegression score: %f'% Logistic.fit(X_train, y_train).score(X_test, y_test))"
   ]
  },
  {
   "cell_type": "code",
   "execution_count": null,
   "metadata": {},
   "outputs": [],
   "source": []
  }
 ],
 "metadata": {
  "kernelspec": {
   "display_name": "Python 3",
   "language": "python",
   "name": "python3"
  },
  "language_info": {
   "codemirror_mode": {
    "name": "ipython",
    "version": 3
   },
   "file_extension": ".py",
   "mimetype": "text/x-python",
   "name": "python",
   "nbconvert_exporter": "python",
   "pygments_lexer": "ipython3",
   "version": "3.7.0"
  }
 },
 "nbformat": 4,
 "nbformat_minor": 2
}
